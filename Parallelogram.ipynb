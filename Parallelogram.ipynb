{
 "cells": [
  {
   "cell_type": "code",
   "execution_count": 1,
   "metadata": {
    "collapsed": true
   },
   "outputs": [],
   "source": [
    "import numpy as np\n",
    "import math\n",
    "from matplotlib import pyplot as plt\n",
    "from PIL import Image"
   ]
  },
  {
   "cell_type": "code",
   "execution_count": 2,
   "metadata": {},
   "outputs": [
    {
     "name": "stdout",
     "output_type": "stream",
     "text": [
      "('JPEG', (1008, 756), 'RGB')\n"
     ]
    }
   ],
   "source": [
    "im = Image.open(\"TestImage2c.jpg\")\n",
    "print(im.format, im.size, im.mode)"
   ]
  },
  {
   "cell_type": "code",
   "execution_count": 3,
   "metadata": {},
   "outputs": [
    {
     "name": "stdout",
     "output_type": "stream",
     "text": [
      "1008 756\n"
     ]
    }
   ],
   "source": [
    "col, row = im.size\n",
    "data = np.zeros((row * col, 3))\n",
    "pixels = im.load()\n",
    "print col, row\n",
    "for i in range(row):\n",
    "    for j in range(col):\n",
    "        r, g, b = pixels[j, i]\n",
    "        data[col * i + j, :] = r, g, b\n",
    "grayscale = np.zeros(row * col)\n",
    "for i in range(row):\n",
    "    for j in range(col):\n",
    "        grayscale[col * i + j] = data[col * i + j, 0] * 0.3 + data[col * i + j, 1] * 0.59 + data[col * i + j, 2] * 0.11\n",
    "grayscale.resize((row, col))"
   ]
  },
  {
   "cell_type": "code",
   "execution_count": null,
   "metadata": {
    "collapsed": true
   },
   "outputs": [],
   "source": [
    "im = Image.fromarray(grayscale)\n",
    "im.show()\n",
    "# greyscale done"
   ]
  },
  {
   "cell_type": "code",
   "execution_count": 4,
   "metadata": {},
   "outputs": [
    {
     "name": "stdout",
     "output_type": "stream",
     "text": [
      "952.571879598 4.01943669423e-14\n",
      "32060\n"
     ]
    }
   ],
   "source": [
    "sobel = np.zeros((row, col, 2))\n",
    "magnitude = np.zeros((row, col))\n",
    "thita = np.zeros((row, col))\n",
    "# Gx, Gy, G, thita\n",
    "maxGrey = 0\n",
    "minGrey = 9999\n",
    "\n",
    "threshold = 20\n",
    "for i in range(1, row - 1):\n",
    "    for j in range(1, col - 1):\n",
    "        sobel[i, j, 0] = grayscale[i - 1, j + 1] + 2 * grayscale[i, j + 1] + grayscale[i + 1, j + 1] \\\n",
    "                         - grayscale[i - 1, j - 1] - 2 * grayscale[i, j - 1] - grayscale[i + 1, j - 1]\n",
    "        sobel[i, j, 1] = grayscale[i - 1, j - 1] + 2 * grayscale[i - 1, j] + grayscale[i - 1, j + 1] \\\n",
    "                         - grayscale[i + 1, j - 1] - 2 * grayscale[i + 1, j] - grayscale[i + 1, j + 1]\n",
    "        magnitude[i, j] = (sobel[i, j, 0] ** 2 + sobel[i, j, 1] ** 2) ** 0.5\n",
    "        if sobel[i, j, 0] == 0:\n",
    "            thita[i, j] = math.atan(sobel[i, j, 1] / 0.01)\n",
    "        else:\n",
    "            thita[i, j] = math.atan(sobel[i, j, 1] / sobel[i, j, 0])\n",
    "        if magnitude[i, j] > maxGrey:\n",
    "            maxGrey = magnitude[i, j]\n",
    "        if magnitude[i, j] < min:\n",
    "            minGrey = magnitude[i, j]\n",
    "print maxGrey, minGrey\n",
    "count = 0\n",
    "for i in range(1, row - 1):\n",
    "    for j in range(1, col - 1):\n",
    "        magnitude[i, j] = magnitude[i, j] / maxGrey * 255\n",
    "        if magnitude[i, j] > threshold:\n",
    "            magnitude[i, j] = 255\n",
    "            count += 1\n",
    "        else:\n",
    "            magnitude[i, j] = 0\n",
    "print count"
   ]
  },
  {
   "cell_type": "code",
   "execution_count": null,
   "metadata": {
    "collapsed": true
   },
   "outputs": [],
   "source": [
    "im = Image.fromarray(magnitude)\n",
    "im.show()\n",
    "# greyscale done"
   ]
  },
  {
   "cell_type": "code",
   "execution_count": 5,
   "metadata": {
    "collapsed": true
   },
   "outputs": [],
   "source": [
    "expand_old = np.copy(magnitude)\n",
    "expand_new = np.copy(magnitude)\n",
    "flag = 0\n",
    "for k in range(3):\n",
    "    for i in range(1, row - 1):\n",
    "        for j in range(1, col - 1):\n",
    "            flag = 0\n",
    "            if expand_old[i-1,j]>0: flag += 1\n",
    "            if expand_old[i+1,j]>0: flag += 1\n",
    "            if expand_old[i,j-1]>0: flag += 1\n",
    "            if expand_old[i,j+1]>0: flag += 1\n",
    "            if flag>= 2:\n",
    "                expand_new[i,j] = 255\n",
    "    expand_old = np.copy(expand_new)"
   ]
  },
  {
   "cell_type": "code",
   "execution_count": null,
   "metadata": {
    "collapsed": true
   },
   "outputs": [],
   "source": [
    "im = Image.fromarray(expand_new)\n",
    "im.show()"
   ]
  },
  {
   "cell_type": "code",
   "execution_count": 6,
   "metadata": {
    "collapsed": true
   },
   "outputs": [],
   "source": [
    "distance0 = np.copy(expand_new)\n",
    "for i in range(1,row-1):\n",
    "    for j in range(1,col-1):\n",
    "        if distance0[i,j]>0:\n",
    "            distance0[i,j]=1\n",
    "distance_new = np.copy(distance0)\n",
    "distance_old = np.copy(distance0)\n",
    "for k in range(15):\n",
    "    for i in range(1,row-1):\n",
    "        for j in range(1,col-1):\n",
    "            min=999\n",
    "            if distance_old[i-1,j]<min:\n",
    "                min = distance_old[i-1,j]\n",
    "            if distance_old[i+1,j]<min:\n",
    "                min = distance_old[i+1,j]\n",
    "            if distance_old[i,j-1]<min:\n",
    "                min = distance_old[i,j-1]\n",
    "            if distance_old[i,j+1]<min:\n",
    "                min = distance_old[i,j+1]\n",
    "            distance_new[i,j]=distance0[i,j]+min\n",
    "    distance_old = np.copy(distance_new)\n",
    "\n",
    "for i in range(1,row-1):\n",
    "    for j in range(1,col-1):\n",
    "        if distance_old[i,j]<distance_old[i-1,j] or distance_old[i,j]<distance_old[i+1,j] or \\\n",
    "        distance_old[i,j]<distance_old[i,j-1] or distance_old[i,j]<distance_old[i,j+1]:\n",
    "            distance0[i,j] = 0\n",
    "\n",
    "count = 0\n",
    "for i in range(1,row-1):\n",
    "    for j in range(1,col-1):\n",
    "        if distance0[i,j] > 0:\n",
    "            distance0[i,j]=255\n",
    "            count +=1"
   ]
  },
  {
   "cell_type": "code",
   "execution_count": null,
   "metadata": {
    "collapsed": true
   },
   "outputs": [],
   "source": [
    "im = Image.fromarray(distance0)\n",
    "im.show()\n",
    "# greyscale done"
   ]
  },
  {
   "cell_type": "code",
   "execution_count": 7,
   "metadata": {},
   "outputs": [
    {
     "data": {
      "text/plain": [
       "9826"
      ]
     },
     "execution_count": 7,
     "metadata": {},
     "output_type": "execute_result"
    }
   ],
   "source": [
    "point = np.zeros((count, 2))\n",
    "count = 0\n",
    "for i in range(1, row - 1):\n",
    "    for j in range(1, col - 1):\n",
    "        if distance0[i, j] == 255:\n",
    "            point[count, :] = i, j\n",
    "            count += 1\n",
    "count"
   ]
  },
  {
   "cell_type": "code",
   "execution_count": 8,
   "metadata": {},
   "outputs": [
    {
     "name": "stdout",
     "output_type": "stream",
     "text": [
      "0\n",
      "1000\n",
      "2000\n",
      "3000\n",
      "4000\n",
      "5000\n",
      "6000\n",
      "7000\n",
      "8000\n",
      "9000\n"
     ]
    }
   ],
   "source": [
    "# hough transform\n",
    "angle = 720\n",
    "p = 4000\n",
    "hough = np.zeros((angle, p))\n",
    "for i in range(count):\n",
    "    if (i % 1000)==0: print i\n",
    "    for j in range(angle):\n",
    "        x, y = point[i,:]\n",
    "        tmpAngle = j / 720.0 * math.pi\n",
    "        tmpP = x * math.cos(tmpAngle) + y * math.sin(tmpAngle)\n",
    "        tmpP = int(tmpP) + 2000\n",
    "        hough[j, tmpP] +=1"
   ]
  },
  {
   "cell_type": "code",
   "execution_count": 9,
   "metadata": {},
   "outputs": [
    {
     "name": "stdout",
     "output_type": "stream",
     "text": [
      "11712\n",
      "1886\n",
      "81\n"
     ]
    }
   ],
   "source": [
    "threshold = 50\n",
    "for i in range(angle):\n",
    "    for j in range(p):\n",
    "        if hough[i, j] > threshold:\n",
    "            count += 1\n",
    "print count\n",
    "\n",
    "tmpHough = np.zeros((count, 3))\n",
    "tmpCount = 0\n",
    "for i in range(angle):\n",
    "    for j in range(p):\n",
    "        if hough[i, j] > threshold:\n",
    "            tmpHough[tmpCount,:]=hough[i,j],i,j\n",
    "            tmpCount += 1\n",
    "\n",
    "print tmpCount\n",
    "effectiveHough = np.zeros((count, 3))\n",
    "count = 0\n",
    "for i in range(tmpCount):\n",
    "    tmp = tmpHough[i,0]\n",
    "    tmpAngle=tmpHough[i,1]\n",
    "    tmpP=tmpHough[i,2]\n",
    "    top = 0 if tmpAngle - 10 < 0 else int(tmpAngle - 10)\n",
    "    bottom = angle - 1 if tmpAngle + 10 > angle - 1 else int(tmpAngle + 10)\n",
    "    left = 0 if tmpP - 20 < 0 else int(tmpP - 20)\n",
    "    right = p - 1 if tmpP + 20 > p - 1 else int(tmpP + 20)\n",
    "    maxFlag = 1       \n",
    "    for k in range(top, bottom + 1):\n",
    "            for l in range(left, right + 1):\n",
    "                if tmp < hough[k, l]:\n",
    "                    maxFlag = 0\n",
    "    if maxFlag == 1:\n",
    "        effectiveHough[count, :] = tmp, tmpAngle, tmpP\n",
    "        count+=1\n",
    "print count\n",
    "    \n",
    "# for i in range(0, angle):\n",
    "#     for j in range(0, p):\n",
    "#         tmp = hough[i, j]\n",
    "#         top = 0 if i - 3 < 0 else i - 3\n",
    "#         bottom = angle - 1 if i + 3 > angle - 1 else i + 3\n",
    "#         left = 0 if j - 10 < 0 else j - 10\n",
    "#         right = p - 1 if j + 10 > p - 1 else j + 10\n",
    "#         maxFlag = 1\n",
    "#         for k in range(top, bottom + 1):\n",
    "#             for l in range(left, right + 1):\n",
    "#                 if tmp < hough[k, l]:\n",
    "#                     maxFlag = 0\n",
    "#         if (tmp > threshold) and maxFlag == 1:\n",
    "#             effectiveHough[count, :] = hough[i, j], i, j\n",
    "#             count += 1\n",
    "# print count\n",
    "#get effectiveHough\n",
    "\n",
    "# for i in range(100):\n",
    "#     print effectiveHough[i,0]\n",
    "\n",
    "for i in range(count):\n",
    "    for j in range(i + 1, count):\n",
    "        if effectiveHough[i, 0] < effectiveHough[j, 0]:\n",
    "            tmpNum, tmpAngle, tmpP = effectiveHough[i, :]\n",
    "            effectiveHough[i] = effectiveHough[j]\n",
    "            effectiveHough[j] = tmpNum, tmpAngle, tmpP\n",
    "\n",
    "#sort effectiveHough"
   ]
  },
  {
   "cell_type": "code",
   "execution_count": 10,
   "metadata": {},
   "outputs": [
    {
     "name": "stdout",
     "output_type": "stream",
     "text": [
      "[  241.   142.  2837.]\n",
      "[  237.   645.  1576.]\n",
      "[  224.   646.  1673.]\n",
      "[  218.   147.  2902.]\n",
      "[  207.   167.  2330.]\n",
      "[  207.   221.  2711.]\n",
      "[  185.   656.  1903.]\n",
      "[  168.   692.  1815.]\n",
      "[  142.   686.  1760.]\n",
      "[  109.   692.  1738.]\n",
      "[  107.   214.  2659.]\n",
      "[  102.    35.  2020.]\n",
      "[   99.   351.  2468.]\n",
      "[   86.    18.  2401.]\n",
      "[   86.   715.  1642.]\n",
      "[   86.   716.  1642.]\n",
      "[   85.   396.  2018.]\n",
      "[   85.   397.  2016.]\n",
      "[   76.    19.  2356.]\n",
      "[   76.    79.  2412.]\n",
      "[   75.   700.  1703.]\n",
      "[   73.   139.  2454.]\n",
      "[   73.     4.  2313.]\n",
      "[   72.   525.  2000.]\n",
      "[   70.   713.  1694.]\n",
      "[   69.   687.  1672.]\n",
      "[   68.   340.  2634.]\n",
      "[   67.   605.  2000.]\n",
      "[   67.   324.  2531.]\n",
      "[   67.    98.  2427.]\n",
      "[   66.    47.  2350.]\n",
      "[   65.   671.  1823.]\n",
      "[   65.   673.  1696.]\n",
      "[   64.   576.  1832.]\n",
      "[   64.    51.  2417.]\n",
      "[   64.    73.  2446.]\n",
      "[   63.   560.  2000.]\n",
      "[   63.   222.  2515.]\n",
      "[   62.    34.  2335.]\n",
      "[   61.   649.  2000.]\n",
      "[   61.   303.  2814.]\n",
      "[   61.   233.  2494.]\n",
      "[   60.   589.  1783.]\n",
      "[   60.   213.  2537.]\n",
      "[   59.   129.  2412.]\n",
      "[   59.   664.  1737.]\n",
      "[   58.   251.  2529.]\n",
      "[   58.   195.  2520.]\n",
      "[   58.   599.  1846.]\n",
      "[   58.   113.  2403.]\n",
      "[   58.   629.  2000.]\n",
      "[   57.   303.  2583.]\n",
      "[   57.   474.  2000.]\n",
      "[   56.   156.  2523.]\n",
      "[   56.    82.  2470.]\n",
      "[   56.   122.  2441.]\n",
      "[   56.    81.  2469.]\n",
      "[   56.   354.  2989.]\n",
      "[   56.   152.  2460.]\n",
      "[   55.   170.  2456.]\n",
      "[   55.   236.  2530.]\n",
      "[   55.    95.  2491.]\n",
      "[   55.   612.  1972.]\n",
      "[   54.   640.  1718.]\n",
      "[   54.   290.  2591.]\n",
      "[   54.   552.  1925.]\n",
      "[   54.   264.  2562.]\n",
      "[   53.   598.  2030.]\n",
      "[   53.   586.  2000.]\n",
      "[   53.   232.  2552.]\n",
      "[   52.   573.  1922.]\n",
      "[   52.   256.  2501.]\n",
      "[   52.   540.  1976.]\n",
      "[   52.   180.  2519.]\n",
      "[   52.   180.  2494.]\n",
      "[   51.   143.  2510.]\n",
      "[   51.   141.  2509.]\n",
      "[   51.   309.  2503.]\n",
      "[   51.   592.  2055.]\n",
      "[   51.   617.  1807.]\n",
      "[   51.   654.  1801.]\n",
      "[ 0.  0.  0.]\n",
      "[ 0.  0.  0.]\n",
      "[ 0.  0.  0.]\n",
      "[ 0.  0.  0.]\n",
      "[ 0.  0.  0.]\n",
      "[ 0.  0.  0.]\n",
      "[ 0.  0.  0.]\n",
      "[ 0.  0.  0.]\n",
      "[ 0.  0.  0.]\n",
      "[ 0.  0.  0.]\n",
      "[ 0.  0.  0.]\n",
      "[ 0.  0.  0.]\n",
      "[ 0.  0.  0.]\n",
      "[ 0.  0.  0.]\n",
      "[ 0.  0.  0.]\n",
      "[ 0.  0.  0.]\n",
      "[ 0.  0.  0.]\n",
      "[ 0.  0.  0.]\n",
      "[ 0.  0.  0.]\n"
     ]
    }
   ],
   "source": [
    "for i in range(100):\n",
    "    print effectiveHough[i]"
   ]
  },
  {
   "cell_type": "code",
   "execution_count": 11,
   "metadata": {
    "collapsed": true
   },
   "outputs": [],
   "source": [
    "resultImage = np.copy(magnitude)\n",
    "for i in range(row):\n",
    "    for j in range(col):\n",
    "        for k in range(20):\n",
    "            if int(i * math.cos(effectiveHough[k, 1] / 720.0 * math.pi) +\n",
    "                                   j * math.sin(effectiveHough[k, 1] / 720.0 * math.pi)) - effectiveHough[\n",
    "                k, 2] +2000 == 0:\n",
    "                resultImage[i, j] = 255"
   ]
  },
  {
   "cell_type": "code",
   "execution_count": 24,
   "metadata": {
    "collapsed": true
   },
   "outputs": [],
   "source": [
    "im = Image.fromarray(resultImage)\n",
    "im.show()"
   ]
  },
  {
   "cell_type": "code",
   "execution_count": 25,
   "metadata": {},
   "outputs": [
    {
     "ename": "IOError",
     "evalue": "cannot write mode F as JPEG",
     "output_type": "error",
     "traceback": [
      "\u001b[1;31m---------------------------------------------------------------------------\u001b[0m",
      "\u001b[1;31mIOError\u001b[0m                                   Traceback (most recent call last)",
      "\u001b[1;32m<ipython-input-25-9852ba8b79e0>\u001b[0m in \u001b[0;36m<module>\u001b[1;34m()\u001b[0m\n\u001b[1;32m----> 1\u001b[1;33m \u001b[0mim\u001b[0m\u001b[1;33m.\u001b[0m\u001b[0msave\u001b[0m\u001b[1;33m(\u001b[0m\u001b[1;34m\"houghtansform.jpg\"\u001b[0m\u001b[1;33m,\u001b[0m\u001b[1;34m\"JPEG\"\u001b[0m\u001b[1;33m)\u001b[0m\u001b[1;33m\u001b[0m\u001b[0m\n\u001b[0m",
      "\u001b[1;32mC:\\Users\\jstzz\\Anaconda2\\lib\\site-packages\\PIL\\Image.pyc\u001b[0m in \u001b[0;36msave\u001b[1;34m(self, fp, format, **params)\u001b[0m\n\u001b[0;32m   1891\u001b[0m \u001b[1;33m\u001b[0m\u001b[0m\n\u001b[0;32m   1892\u001b[0m         \u001b[1;32mtry\u001b[0m\u001b[1;33m:\u001b[0m\u001b[1;33m\u001b[0m\u001b[0m\n\u001b[1;32m-> 1893\u001b[1;33m             \u001b[0msave_handler\u001b[0m\u001b[1;33m(\u001b[0m\u001b[0mself\u001b[0m\u001b[1;33m,\u001b[0m \u001b[0mfp\u001b[0m\u001b[1;33m,\u001b[0m \u001b[0mfilename\u001b[0m\u001b[1;33m)\u001b[0m\u001b[1;33m\u001b[0m\u001b[0m\n\u001b[0m\u001b[0;32m   1894\u001b[0m         \u001b[1;32mfinally\u001b[0m\u001b[1;33m:\u001b[0m\u001b[1;33m\u001b[0m\u001b[0m\n\u001b[0;32m   1895\u001b[0m             \u001b[1;31m# do what we can to clean up\u001b[0m\u001b[1;33m\u001b[0m\u001b[1;33m\u001b[0m\u001b[0m\n",
      "\u001b[1;32mC:\\Users\\jstzz\\Anaconda2\\lib\\site-packages\\PIL\\JpegImagePlugin.pyc\u001b[0m in \u001b[0;36m_save\u001b[1;34m(im, fp, filename)\u001b[0m\n\u001b[0;32m    602\u001b[0m         \u001b[0mrawmode\u001b[0m \u001b[1;33m=\u001b[0m \u001b[0mRAWMODE\u001b[0m\u001b[1;33m[\u001b[0m\u001b[0mim\u001b[0m\u001b[1;33m.\u001b[0m\u001b[0mmode\u001b[0m\u001b[1;33m]\u001b[0m\u001b[1;33m\u001b[0m\u001b[0m\n\u001b[0;32m    603\u001b[0m     \u001b[1;32mexcept\u001b[0m \u001b[0mKeyError\u001b[0m\u001b[1;33m:\u001b[0m\u001b[1;33m\u001b[0m\u001b[0m\n\u001b[1;32m--> 604\u001b[1;33m         \u001b[1;32mraise\u001b[0m \u001b[0mIOError\u001b[0m\u001b[1;33m(\u001b[0m\u001b[1;34m\"cannot write mode %s as JPEG\"\u001b[0m \u001b[1;33m%\u001b[0m \u001b[0mim\u001b[0m\u001b[1;33m.\u001b[0m\u001b[0mmode\u001b[0m\u001b[1;33m)\u001b[0m\u001b[1;33m\u001b[0m\u001b[0m\n\u001b[0m\u001b[0;32m    605\u001b[0m \u001b[1;33m\u001b[0m\u001b[0m\n\u001b[0;32m    606\u001b[0m     \u001b[0minfo\u001b[0m \u001b[1;33m=\u001b[0m \u001b[0mim\u001b[0m\u001b[1;33m.\u001b[0m\u001b[0mencoderinfo\u001b[0m\u001b[1;33m\u001b[0m\u001b[0m\n",
      "\u001b[1;31mIOError\u001b[0m: cannot write mode F as JPEG"
     ]
    }
   ],
   "source": [
    "im.save(\"houghtansform.jpg\",\"JPEG\")"
   ]
  },
  {
   "cell_type": "markdown",
   "metadata": {},
   "source": [
    "### effectiveHough 数组中的内容：\n",
    "* 落在该直线上点的数量\n",
    "* thita:角度，取值0-720\n",
    "* p:直线到原点距离，取值-2000-2000\n",
    "\n",
    "#### 该数组已sort\n",
    "\n",
    "### 直线——线段\n",
    "* 对图中所有点搜索\n",
    "* effectiveLinePoint[100,max(effectiveHough[0]),2],如果点在前一百的hough直线上，加入到数组中\n",
    "* 对数组作sort\n",
    "* 求出数组中的线段"
   ]
  },
  {
   "cell_type": "code",
   "execution_count": 12,
   "metadata": {},
   "outputs": [
    {
     "name": "stdout",
     "output_type": "stream",
     "text": [
      "305.0\n",
      "328.0\n",
      "397.0\n",
      "309.0\n",
      "248.0\n",
      "260.0\n",
      "246.0\n",
      "257.0\n",
      "224.0\n",
      "263.0\n",
      "170.0\n",
      "127.0\n",
      "168.0\n",
      "155.0\n",
      "211.0\n",
      "211.0\n",
      "111.0\n",
      "111.0\n",
      "155.0\n",
      "139.0\n"
     ]
    }
   ],
   "source": [
    "maxEffectvieHough = int(effectiveHough[0,0])\n",
    "effectiveLinePoint = np.zeros((100,500,2))\n",
    "lineCount = np.zeros(100)\n",
    "for i in range(row):\n",
    "    for j in range(col):\n",
    "        if magnitude[i,j]==255:\n",
    "            for k in range(100):\n",
    "                onLine = int(i * math.cos(effectiveHough[k, 1] / 720.0 * math.pi) + \n",
    "                    j * math.sin(effectiveHough[k, 1] / 720.0 * math.pi)) - effectiveHough[k, 2] +2000 \n",
    "                if onLine==0:\n",
    "                    tmp = int(lineCount[k])\n",
    "                    effectiveLinePoint[k,tmp,:]=i,j\n",
    "                    lineCount[k]+=1\n",
    "for i in range (20):\n",
    "    print lineCount[i]"
   ]
  },
  {
   "cell_type": "code",
   "execution_count": 13,
   "metadata": {
    "collapsed": true
   },
   "outputs": [],
   "source": [
    "for i in range(100):\n",
    "    count = int(lineCount[i])\n",
    "    for j in range(count):\n",
    "        for k in range(j+1,count):\n",
    "            if effectiveLinePoint[i, j, 0] > effectiveLinePoint[i, k, 0]:\n",
    "                tmpI, tmpJ = effectiveLinePoint[i, j, :]\n",
    "                effectiveLinePoint[i, j, :] = effectiveLinePoint[i, k, :]\n",
    "                effectiveLinePoint[i, k, :] = tmpI, tmpJ"
   ]
  },
  {
   "cell_type": "code",
   "execution_count": null,
   "metadata": {},
   "outputs": [],
   "source": [
    "effectiveHough[5,:]"
   ]
  },
  {
   "cell_type": "code",
   "execution_count": null,
   "metadata": {},
   "outputs": [],
   "source": [
    "for i in range(int(lineCount[5])):\n",
    "    print effectiveLinePoint[5,i,:]"
   ]
  },
  {
   "cell_type": "markdown",
   "metadata": {},
   "source": [
    "### 已有图片"
   ]
  },
  {
   "cell_type": "code",
   "execution_count": 14,
   "metadata": {
    "collapsed": true
   },
   "outputs": [],
   "source": [
    "houghLines = np.zeros((row, col))\n",
    "for i in range(50):\n",
    "    for j in range(int(lineCount[i])):\n",
    "        x,y = effectiveLinePoint[i,j,:]\n",
    "        houghLines[int(x),int(y)]=255"
   ]
  },
  {
   "cell_type": "code",
   "execution_count": 20,
   "metadata": {
    "collapsed": true
   },
   "outputs": [],
   "source": [
    "im = Image.fromarray(magnitude)\n",
    "im.show()"
   ]
  },
  {
   "cell_type": "code",
   "execution_count": null,
   "metadata": {
    "collapsed": true
   },
   "outputs": [],
   "source": [
    "im = Image.fromarray(distance0)\n",
    "im.show()"
   ]
  },
  {
   "cell_type": "code",
   "execution_count": null,
   "metadata": {
    "collapsed": true
   },
   "outputs": [],
   "source": [
    "im = Image.fromarray(resultImage)\n",
    "im.show()"
   ]
  },
  {
   "cell_type": "code",
   "execution_count": 23,
   "metadata": {},
   "outputs": [],
   "source": [
    "im = Image.fromarray(houghLines)\n",
    "im.show()"
   ]
  },
  {
   "cell_type": "markdown",
   "metadata": {},
   "source": [
    "# 线段化"
   ]
  },
  {
   "cell_type": "code",
   "execution_count": 15,
   "metadata": {},
   "outputs": [
    {
     "name": "stdout",
     "output_type": "stream",
     "text": [
      "62\n"
     ]
    }
   ],
   "source": [
    "threshold = 50\n",
    "# thita,p; start point; end point\n",
    "effectiveLine = np.zeros((1000,3,2))\n",
    "length = np.zeros(1000)\n",
    "pointCount = 0\n",
    "index = 0\n",
    "from IPython.core.debugger import Tracer\n",
    "\n",
    "for i in range(100):\n",
    "    pointCount = 0\n",
    "    count = int(lineCount[i])\n",
    "    startX, startY = effectiveLinePoint[i,0,:]\n",
    "    oldX, oldY = startX, startY\n",
    "    for j in range(1,count):\n",
    "        newX, newY = effectiveLinePoint[i,j,:]\n",
    "        distance = math.sqrt((oldX-newX) **2 + (oldY-newY) **2 )\n",
    "        if distance<15:\n",
    "            oldX,oldY = newX, newY\n",
    "            pointCount += 1\n",
    "            if j==count-1:\n",
    "                #Tracer()()\n",
    "                distance = math.sqrt((oldX-startX) **2 + (oldY-startY) **2 )\n",
    "                if distance >= 60:\n",
    "                    effectiveLine[index,0,:]=effectiveHough[i,1], effectiveHough[i,2]\n",
    "                    effectiveLine[index,1,:]=startX,startY\n",
    "                    effectiveLine[index,2,:]=oldX,oldY\n",
    "                    length[index] = distance\n",
    "                    index += 1\n",
    "        else:\n",
    "            #Tracer()()\n",
    "            distance = math.sqrt((oldX-startX) **2 + (oldY-startY) **2)\n",
    "            if distance >= 60:\n",
    "                effectiveLine[index,0,:]=effectiveHough[i,1], effectiveHough[i,2]\n",
    "                effectiveLine[index,1,:]=startX,startY\n",
    "                effectiveLine[index,2,:]=oldX,oldY\n",
    "                length[index]=distance\n",
    "                index += 1\n",
    "            startX, startY = newX, newY\n",
    "            oldX, oldY = startX, startY\n",
    "            pointCount = 0\n",
    "print index"
   ]
  },
  {
   "cell_type": "code",
   "execution_count": 21,
   "metadata": {
    "scrolled": false
   },
   "outputs": [
    {
     "name": "stdout",
     "output_type": "stream",
     "text": [
      "0 [[  142.  2837.]\n",
      " [  446.   817.]\n",
      " [  621.   572.]]\n",
      "1 [[  645.  1576.]\n",
      " [  480.    94.]\n",
      " [  602.   452.]]\n",
      "2 [[  646.  1673.]\n",
      " [  372.    79.]\n",
      " [  497.   454.]]\n",
      "3 [[  147.  2902.]\n",
      " [  477.   869.]\n",
      " [  662.   622.]]\n",
      "4 [[  167.  2330.]\n",
      " [  184.   290.]\n",
      " [  319.   139.]]\n",
      "5 [[  221.  2711.]\n",
      " [  367.   611.]\n",
      " [  603.   448.]]\n",
      "6 [[  656.  1903.]\n",
      " [  185.   290.]\n",
      " [  256.   540.]]\n",
      "7 [[  692.  1815.]\n",
      " [  282.   771.]\n",
      " [  308.   984.]]\n",
      "8 [[  686.  1760.]\n",
      " [  356.   755.]\n",
      " [  389.   977.]]\n",
      "9 [[  692.  1738.]\n",
      " [  317.   425.]\n",
      " [  324.   485.]]\n",
      "10 [[  692.  1738.]\n",
      " [  357.   755.]\n",
      " [  385.   982.]]\n",
      "11 [[  214.  2659.]\n",
      " [  279.   614.]\n",
      " [  454.   485.]]\n",
      "12 [[  3.50000000e+01   2.02000000e+03]\n",
      " [  1.00000000e+00   1.25000000e+02]\n",
      " [  2.10000000e+01   1.00000000e+00]]\n",
      "13 [[  351.  2468.]\n",
      " [  493.   449.]\n",
      " [  603.   445.]]\n",
      "14 [[  715.  1642.]\n",
      " [  362.   150.]\n",
      " [  363.   211.]]\n",
      "15 [[  715.  1642.]\n",
      " [  377.   856.]\n",
      " [  380.   983.]]\n",
      "16 [[  716.  1642.]\n",
      " [  373.   827.]\n",
      " [  375.   924.]]\n",
      "17 [[  396.  2018.]\n",
      " [  373.    78.]\n",
      " [  482.    95.]]\n",
      "18 [[  397.  2016.]\n",
      " [  374.    78.]\n",
      " [  484.    96.]]\n",
      "19 [[   79.  2412.]\n",
      " [  306.   367.]\n",
      " [  331.   300.]]\n",
      "20 [[  700.  1703.]\n",
      " [  310.   125.]\n",
      " [  315.   186.]]\n",
      "21 [[  700.  1703.]\n",
      " [  319.   238.]\n",
      " [  327.   322.]]\n",
      "22 [[  700.  1703.]\n",
      " [  367.   783.]\n",
      " [  385.   982.]]\n",
      "23 [[  139.  2454.]\n",
      " [  268.   411.]\n",
      " [  323.   331.]]\n",
      "24 [[  525.  2000.]\n",
      " [  278.   243.]\n",
      " [  326.   287.]]\n",
      "25 [[  713.  1694.]\n",
      " [  310.   120.]\n",
      " [  313.   205.]]\n",
      "26 [[  340.  2634.]\n",
      " [  273.   613.]\n",
      " [  384.   603.]]\n",
      "27 [[  605.  2000.]\n",
      " [  446.   814.]\n",
      " [  477.   869.]]\n",
      "28 [[   98.  2427.]\n",
      " [  302.   367.]\n",
      " [  339.   288.]]\n",
      "29 [[  671.  1823.]\n",
      " [  356.   801.]\n",
      " [  392.   971.]]\n",
      "30 [[  673.  1696.]\n",
      " [  373.   299.]\n",
      " [  386.   360.]]\n",
      "31 [[  576.  1832.]\n",
      " [  623.   571.]\n",
      " [  662.   625.]]\n",
      "32 [[  222.  2515.]\n",
      " [  132.   535.]\n",
      " [  192.   494.]]\n",
      "33 [[  649.  2000.]\n",
      " [  153.   480.]\n",
      " [  182.   567.]]\n",
      "34 [[  303.  2814.]\n",
      " [  283.   769.]\n",
      " [  352.   751.]]\n",
      "35 [[  233.  2494.]\n",
      " [  150.   489.]\n",
      " [  229.   440.]]\n",
      "36 [[  589.  1783.]\n",
      " [  352.   145.]\n",
      " [  395.   212.]]\n",
      "37 [[  589.  1783.]\n",
      " [  626.   572.]\n",
      " [  662.   627.]]\n",
      "38 [[  213.  2537.]\n",
      " [  289.   455.]\n",
      " [  343.   415.]]\n",
      "39 [[  129.  2412.]\n",
      " [  162.   516.]\n",
      " [  199.   458.]]\n",
      "40 [[  251.  2529.]\n",
      " [  138.   524.]\n",
      " [  197.   494.]]\n",
      "41 [[  195.  2520.]\n",
      " [  143.   567.]\n",
      " [  190.   526.]]\n",
      "42 [[  156.  2523.]\n",
      " [  282.   484.]\n",
      " [  334.   420.]]\n",
      "43 [[  122.  2441.]\n",
      " [  268.   414.]\n",
      " [  303.   356.]]\n",
      "44 [[  354.  2989.]\n",
      " [  307.   982.]\n",
      " [  388.   980.]]\n",
      "45 [[  152.  2460.]\n",
      " [  269.   403.]\n",
      " [  319.   340.]]\n",
      "46 [[  236.  2530.]\n",
      " [  167.   518.]\n",
      " [  239.   475.]]\n",
      "47 [[  612.  1972.]\n",
      " [  447.   815.]\n",
      " [  475.   869.]]\n",
      "48 [[  552.  1925.]\n",
      " [  298.   218.]\n",
      " [  342.   267.]]\n",
      "49 [[  552.  1925.]\n",
      " [  619.   574.]\n",
      " [  663.   624.]]\n",
      "50 [[  264.  2562.]\n",
      " [  102.   570.]\n",
      " [  160.   544.]]\n",
      "51 [[  598.  2030.]\n",
      " [  446.   817.]\n",
      " [  477.   869.]]\n",
      "52 [[  586.  2000.]\n",
      " [  297.   450.]\n",
      " [  340.   513.]]\n",
      "53 [[  232.  2552.]\n",
      " [  122.   575.]\n",
      " [  176.   542.]]\n",
      "54 [[  232.  2552.]\n",
      " [  287.   472.]\n",
      " [  339.   440.]]\n",
      "55 [[  256.  2501.]\n",
      " [  148.   486.]\n",
      " [  208.   456.]]\n",
      "56 [[  180.  2494.]\n",
      " [  110.   589.]\n",
      " [  179.   521.]]\n",
      "57 [[  143.  2510.]\n",
      " [  288.   473.]\n",
      " [  324.   424.]]\n",
      "58 [[  141.  2509.]\n",
      " [  282.   484.]\n",
      " [  324.   424.]]\n",
      "59 [[  309.  2503.]\n",
      " [  264.   457.]\n",
      " [  339.   440.]]\n",
      "60 [[  592.  2055.]\n",
      " [  225.   465.]\n",
      " [  265.   528.]]\n",
      "61 [[  592.  2055.]\n",
      " [  446.   818.]\n",
      " [  478.   869.]]\n"
     ]
    }
   ],
   "source": [
    "for i in range(index):\n",
    "    print i,effectiveLine[i,:]"
   ]
  },
  {
   "cell_type": "code",
   "execution_count": 22,
   "metadata": {
    "scrolled": true
   },
   "outputs": [
    {
     "name": "stdout",
     "output_type": "stream",
     "text": [
      "301.081384346\n",
      "378.216869005\n",
      "395.284707521\n",
      "308.600064809\n",
      "202.548759562\n",
      "286.818758103\n",
      "259.886513694\n",
      "214.580987042\n",
      "224.439301371\n",
      "60.4069532422\n",
      "228.72035327\n",
      "217.407451574\n",
      "125.602547745\n",
      "110.072703247\n",
      "61.0081961707\n",
      "127.035428129\n",
      "97.0206163658\n",
      "110.317722964\n",
      "111.462998345\n",
      "71.5122367151\n",
      "61.2045749924\n",
      "84.3800924389\n",
      "199.812412027\n",
      "97.0824391947\n",
      "65.1152823844\n",
      "85.0529246999\n",
      "111.449540152\n",
      "63.1347764707\n",
      "87.2353139503\n",
      "173.769962882\n",
      "62.3698645181\n",
      "66.6108099335\n",
      "72.6704891961\n",
      "91.7060521449\n",
      "71.309185944\n",
      "92.9623579735\n",
      "79.61155695\n",
      "65.7343137182\n",
      "67.2011904656\n",
      "68.7968022513\n",
      "66.1891229735\n",
      "62.3698645181\n",
      "82.4621125124\n",
      "67.7421582178\n",
      "81.0246875958\n",
      "80.4300938704\n",
      "83.8629834909\n",
      "60.827625303\n",
      "65.8559033041\n",
      "66.6033032214\n",
      "63.5609943283\n",
      "60.5392434707\n",
      "76.2758153021\n",
      "63.2850693292\n",
      "61.0573500899\n",
      "67.082039325\n",
      "96.8762096699\n",
      "60.8029604542\n",
      "73.2393336944\n",
      "76.9025357189\n",
      "74.6257328272\n",
      "60.207972894\n"
     ]
    }
   ],
   "source": [
    "for i in range(index):\n",
    "    print length[i]"
   ]
  },
  {
   "cell_type": "code",
   "execution_count": 16,
   "metadata": {
    "collapsed": true
   },
   "outputs": [],
   "source": [
    "lines = np.zeros((row, col))\n",
    "for i in range(index):\n",
    "    angle, p = effectiveLine[i,0,:]\n",
    "    startX, startY=effectiveLine[i,1,:]\n",
    "    endX, endY=effectiveLine[i,2,:]\n",
    "    startX = int(startX)\n",
    "    endX = int(endX)\n",
    "    for j in range(startX+1,endX):\n",
    "        maxY = int(max(startY,endY))\n",
    "        minY = int(maxY-abs(startY-endY))\n",
    "        for k in range(minY,maxY+1):\n",
    "            onLine = int(j * math.cos(angle / 720.0 * math.pi) + \n",
    "                    k * math.sin(angle / 720.0 * math.pi) - p) +2000\n",
    "            if onLine == 0:\n",
    "                lines[j,k]=255\n",
    "    im = Image.fromarray(lines)\n",
    "    if im.mode != 'RGB':\n",
    "        im = im.convert('RGB')\n",
    "    im.save(str(i)+\".jpg\",\"JPEG\")"
   ]
  },
  {
   "cell_type": "code",
   "execution_count": 18,
   "metadata": {},
   "outputs": [],
   "source": [
    "im = Image.fromarray(lines)\n",
    "im.show()"
   ]
  },
  {
   "cell_type": "code",
   "execution_count": 17,
   "metadata": {},
   "outputs": [
    {
     "name": "stdout",
     "output_type": "stream",
     "text": [
      "176\n"
     ]
    }
   ],
   "source": [
    "linePair = np.zeros((1000,2))\n",
    "count = 0\n",
    "for i in range(index):\n",
    "    for j in range(i+1,index):\n",
    "        angleDif=abs(effectiveLine[i,0,0]-effectiveLine[j,0,0])\n",
    "        lengthDif=abs(length[i]-length[j])/max(length[i],length[j])\n",
    "        pDif=abs(effectiveLine[i,0,1]-effectiveLine[j,0,1])\n",
    "        if angleDif<=50 and lengthDif <= 0.4 and pDif>10:\n",
    "            linePair[count,:]=i,j\n",
    "            count+=1\n",
    "print count"
   ]
  },
  {
   "cell_type": "code",
   "execution_count": null,
   "metadata": {},
   "outputs": [],
   "source": [
    "lines = np.zeros((row, col))\n",
    "for pair in range(count):\n",
    "    for i in linePair[pair,:]:\n",
    "        i = int(i)\n",
    "        angle, p = effectiveLine[i,0,:]\n",
    "        startX, startY=effectiveLine[i,1,:]\n",
    "        endX, endY=effectiveLine[i,2,:]\n",
    "        startX = int(startX)\n",
    "        endX = int(endX)\n",
    "        for j in range(startX+1,endX):\n",
    "            for k in range(0,col):\n",
    "                onLine = int(j * math.cos(angle / 720.0 * math.pi) + \n",
    "                    k * math.sin(angle / 720.0 * math.pi) - p) +2000\n",
    "                if onLine == 0:\n",
    "                    lines[j,k]=255"
   ]
  },
  {
   "cell_type": "code",
   "execution_count": null,
   "metadata": {
    "scrolled": true
   },
   "outputs": [],
   "source": [
    "im = Image.fromarray(lines)\n",
    "if im.mode != 'RGB':\n",
    "    im = im.convert('RGB')\n",
    "im"
   ]
  },
  {
   "cell_type": "code",
   "execution_count": null,
   "metadata": {
    "collapsed": true
   },
   "outputs": [],
   "source": []
  }
 ],
 "metadata": {
  "kernelspec": {
   "display_name": "Python 2",
   "language": "python",
   "name": "python2"
  },
  "language_info": {
   "codemirror_mode": {
    "name": "ipython",
    "version": 2
   },
   "file_extension": ".py",
   "mimetype": "text/x-python",
   "name": "python",
   "nbconvert_exporter": "python",
   "pygments_lexer": "ipython2",
   "version": "2.7.14"
  }
 },
 "nbformat": 4,
 "nbformat_minor": 2
}
