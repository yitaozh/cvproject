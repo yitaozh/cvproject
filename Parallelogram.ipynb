{
 "cells": [
  {
   "cell_type": "code",
   "execution_count": 1,
   "metadata": {
    "collapsed": true
   },
   "outputs": [],
   "source": [
    "import numpy as np\n",
    "import math\n",
    "from matplotlib import pyplot as plt\n",
    "from PIL import Image"
   ]
  },
  {
   "cell_type": "code",
   "execution_count": 2,
   "metadata": {},
   "outputs": [
    {
     "name": "stdout",
     "output_type": "stream",
     "text": [
      "('JPEG', (1008, 756), 'RGB')\n"
     ]
    }
   ],
   "source": [
    "im = Image.open(\"TestImage2c.jpg\")\n",
    "print(im.format, im.size, im.mode)"
   ]
  },
  {
   "cell_type": "code",
   "execution_count": 3,
   "metadata": {},
   "outputs": [
    {
     "name": "stdout",
     "output_type": "stream",
     "text": [
      "1008 756\n"
     ]
    }
   ],
   "source": [
    "col, row = im.size\n",
    "data = np.zeros((row * col, 3))\n",
    "pixels = im.load()\n",
    "print col, row\n",
    "for i in range(row):\n",
    "    for j in range(col):\n",
    "        r, g, b = pixels[j, i]\n",
    "        data[col * i + j, :] = r, g, b\n",
    "grayscale = np.zeros(row * col)\n",
    "for i in range(row):\n",
    "    for j in range(col):\n",
    "        grayscale[col * i + j] = data[col * i + j, 0] * 0.3 + data[col * i + j, 1] * 0.59 + data[col * i + j, 2] * 0.11\n",
    "grayscale.resize((row, col))"
   ]
  },
  {
   "cell_type": "code",
   "execution_count": 4,
   "metadata": {
    "collapsed": true
   },
   "outputs": [],
   "source": [
    "im = Image.fromarray(grayscale)\n",
    "im.show()\n",
    "# greyscale done"
   ]
  },
  {
   "cell_type": "code",
   "execution_count": 5,
   "metadata": {},
   "outputs": [
    {
     "name": "stdout",
     "output_type": "stream",
     "text": [
      "952.571879598 0.0\n"
     ]
    }
   ],
   "source": [
    "sobel = np.zeros((row, col, 2))\n",
    "magnitude = np.zeros((row, col))\n",
    "thita = np.zeros((row, col))\n",
    "# Gx, Gy, G, thita\n",
    "max = 0\n",
    "min = 9999\n",
    "\n",
    "threshold = 20\n",
    "for i in range(1, row - 1):\n",
    "    for j in range(1, col - 1):\n",
    "        sobel[i, j, 0] = grayscale[i - 1, j + 1] + 2 * grayscale[i, j + 1] + grayscale[i + 1, j + 1] \\\n",
    "                         - grayscale[i - 1, j - 1] - 2 * grayscale[i, j - 1] - grayscale[i + 1, j - 1]\n",
    "        sobel[i, j, 1] = grayscale[i - 1, j - 1] + 2 * grayscale[i - 1, j] + grayscale[i - 1, j + 1] \\\n",
    "                         - grayscale[i + 1, j - 1] - 2 * grayscale[i + 1, j] - grayscale[i + 1, j + 1]\n",
    "        magnitude[i, j] = (sobel[i, j, 0] ** 2 + sobel[i, j, 1] ** 2) ** 0.5\n",
    "        if sobel[i, j, 0] == 0:\n",
    "            thita[i, j] = math.atan(sobel[i, j, 1] / 0.01)\n",
    "        else:\n",
    "            thita[i, j] = math.atan(sobel[i, j, 1] / sobel[i, j, 0])\n",
    "        if magnitude[i, j] > max:\n",
    "            max = magnitude[i, j]\n",
    "        if magnitude[i, j] < min:\n",
    "            min = magnitude[i, j]\n",
    "print max, min\n",
    "count = 0\n",
    "for i in range(1, row - 1):\n",
    "    for j in range(1, col - 1):\n",
    "        magnitude[i, j] = magnitude[i, j] / max * 255\n",
    "        if magnitude[i, j] > threshold:\n",
    "            magnitude[i, j] = 255\n",
    "            count += 1\n",
    "        else:\n",
    "            magnitude[i, j] = 0\n"
   ]
  },
  {
   "cell_type": "code",
   "execution_count": 6,
   "metadata": {
    "collapsed": true
   },
   "outputs": [],
   "source": [
    "im = Image.fromarray(magnitude)\n",
    "im.show()\n",
    "# greyscale done"
   ]
  },
  {
   "cell_type": "code",
   "execution_count": 7,
   "metadata": {
    "collapsed": true
   },
   "outputs": [],
   "source": [
    "expand_old = np.copy(magnitude)\n",
    "expand_new = np.copy(magnitude)\n",
    "for k in range(4):\n",
    "    for i in range(1, row - 1):\n",
    "        for j in range(1, col - 1):\n",
    "            if expand_old[i-1,j]>0 or expand_old[i+1,j]>0 or \\\n",
    "            expand_old[i,j-1]>0 or expand_old[i,j+1]>0:\n",
    "                expand_new[i,j] = 255\n",
    "    expand_old = np.copy(expand_new)"
   ]
  },
  {
   "cell_type": "code",
   "execution_count": 8,
   "metadata": {
    "collapsed": true
   },
   "outputs": [],
   "source": [
    "im = Image.fromarray(expand_new)\n",
    "im.show()"
   ]
  },
  {
   "cell_type": "code",
   "execution_count": 9,
   "metadata": {
    "collapsed": true
   },
   "outputs": [],
   "source": [
    "distance0 = np.copy(expand_new)\n",
    "for i in range(1,row-1):\n",
    "    for j in range(1,col-1):\n",
    "        if distance0[i,j]>0:\n",
    "            distance0[i,j]=1\n",
    "distance_new = np.copy(distance0)\n",
    "distance_old = np.copy(distance0)\n",
    "for k in range(15):\n",
    "    for i in range(1,row-1):\n",
    "        for j in range(1,col-1):\n",
    "            min=999\n",
    "            if distance_old[i-1,j]<min:\n",
    "                min = distance_old[i-1,j]\n",
    "            if distance_old[i+1,j]<min:\n",
    "                min = distance_old[i+1,j]\n",
    "            if distance_old[i,j-1]<min:\n",
    "                min = distance_old[i,j-1]\n",
    "            if distance_old[i,j+1]<min:\n",
    "                min = distance_old[i,j+1]\n",
    "            distance_new[i,j]=distance0[i,j]+min\n",
    "    distance_old = np.copy(distance_new)\n",
    "\n",
    "for i in range(1,row-1):\n",
    "    for j in range(1,col-1):\n",
    "        if distance_old[i,j]<distance_old[i-1,j] or distance_old[i,j]<distance_old[i+1,j] or \\\n",
    "        distance_old[i,j]<distance_old[i,j-1] or distance_old[i,j]<distance_old[i,j+1]:\n",
    "            distance0[i,j] = 0\n",
    "\n",
    "count = 0\n",
    "for i in range(1,row-1):\n",
    "    for j in range(1,col-1):\n",
    "        if distance0[i,j] > 0:\n",
    "            distance0[i,j]=255\n",
    "            count +=1"
   ]
  },
  {
   "cell_type": "code",
   "execution_count": 10,
   "metadata": {
    "collapsed": true
   },
   "outputs": [],
   "source": [
    "im = Image.fromarray(distance0)\n",
    "im.show()\n",
    "# greyscale done"
   ]
  },
  {
   "cell_type": "code",
   "execution_count": 11,
   "metadata": {},
   "outputs": [
    {
     "data": {
      "text/plain": [
       "8299"
      ]
     },
     "execution_count": 11,
     "metadata": {},
     "output_type": "execute_result"
    }
   ],
   "source": [
    "point = np.zeros((count, 2))\n",
    "count = 0\n",
    "for i in range(1, row - 1):\n",
    "    for j in range(1, col - 1):\n",
    "        if distance0[i, j] == 255:\n",
    "            point[count, :] = i, j\n",
    "            count += 1\n",
    "count"
   ]
  },
  {
   "cell_type": "code",
   "execution_count": 12,
   "metadata": {},
   "outputs": [
    {
     "name": "stdout",
     "output_type": "stream",
     "text": [
      "0\n",
      "100\n",
      "200\n",
      "300\n",
      "400\n",
      "500\n",
      "600\n",
      "700\n",
      "800\n",
      "900\n",
      "1000\n",
      "1100\n",
      "1200\n",
      "1300\n",
      "1400\n",
      "1500\n",
      "1600\n",
      "1700\n",
      "1800\n",
      "1900\n",
      "2000\n",
      "2100\n",
      "2200\n",
      "2300\n",
      "2400\n",
      "2500\n",
      "2600\n",
      "2700\n",
      "2800\n",
      "2900\n",
      "3000\n",
      "3100\n",
      "3200\n",
      "3300\n",
      "3400\n",
      "3500\n",
      "3600\n",
      "3700\n",
      "3800\n",
      "3900\n",
      "4000\n",
      "4100\n",
      "4200\n",
      "4300\n",
      "4400\n",
      "4500\n",
      "4600\n",
      "4700\n",
      "4800\n",
      "4900\n",
      "5000\n",
      "5100\n",
      "5200\n",
      "5300\n",
      "5400\n",
      "5500\n",
      "5600\n",
      "5700\n",
      "5800\n",
      "5900\n",
      "6000\n",
      "6100\n",
      "6200\n",
      "6300\n",
      "6400\n",
      "6500\n",
      "6600\n",
      "6700\n",
      "6800\n",
      "6900\n",
      "7000\n",
      "7100\n",
      "7200\n",
      "7300\n",
      "7400\n",
      "7500\n",
      "7600\n",
      "7700\n",
      "7800\n",
      "7900\n",
      "8000\n",
      "8100\n",
      "8200\n"
     ]
    }
   ],
   "source": [
    "# hough transform\n",
    "angle = 720\n",
    "p = 4000\n",
    "hough = np.zeros((angle, p))\n",
    "for i in range(count):\n",
    "    if (i % 100)==0: print i\n",
    "    for j in range(i + 1, count):\n",
    "        x1, y1 = point[i, :]\n",
    "        x2, y2 = point[j, :]\n",
    "        if y1 == y2:\n",
    "            tmpAngle = math.atan((x2 - x1) / 0.001)\n",
    "        else:\n",
    "            tmpAngle = math.atan((x2 - x1) / (y1 - y2))\n",
    "        tmpP = x1 * math.cos(tmpAngle) + y1 * math.sin(tmpAngle)\n",
    "        tmpAngle = tmpAngle / (2 * math.pi) * 360\n",
    "        if tmpAngle < 0: tmpAngle = tmpAngle + 360\n",
    "        tmpAngle = int(tmpAngle * 2)\n",
    "        tmpP = int(tmpP)+2000\n",
    "        hough[tmpAngle, tmpP] += 1\n",
    "# get original hough array"
   ]
  },
  {
   "cell_type": "code",
   "execution_count": 13,
   "metadata": {},
   "outputs": [
    {
     "name": "stdout",
     "output_type": "stream",
     "text": [
      "182824\n",
      "900\n"
     ]
    }
   ],
   "source": [
    "for i in range(angle):\n",
    "    for j in range(p):\n",
    "        if hough[i, j] > threshold:\n",
    "            count += 1\n",
    "print count\n",
    "effectiveHough = np.zeros((count, 3))\n",
    "count = 0\n",
    "for i in range(0, angle):\n",
    "    for j in range(0, p):\n",
    "        tmp = hough[i, j]\n",
    "        top = 0 if i - 3 < 0 else i - 3\n",
    "        bottom = angle - 1 if i + 3 > angle - 1 else i + 3\n",
    "        left = 0 if j - 10 < 0 else j - 10\n",
    "        right = p - 1 if j + 10 > p - 1 else j + 10\n",
    "        maxFlag = 1\n",
    "        for k in range(top, bottom + 1):\n",
    "            for l in range(left, right + 1):\n",
    "                if tmp < hough[k, l]:\n",
    "                    maxFlag = 0\n",
    "        if (tmp > threshold) and maxFlag == 1:\n",
    "            effectiveHough[count, :] = hough[i, j], i, j\n",
    "            count += 1\n",
    "print count\n",
    "#get effectiveHough\n",
    "\n",
    "# for i in range(100):\n",
    "#     print effectiveHough[i,0]\n",
    "\n",
    "for i in range(count):\n",
    "    for j in range(i + 1, count):\n",
    "        if effectiveHough[i, 0] < effectiveHough[j, 0]:\n",
    "            tmpNum, tmpAngle, tmpP = effectiveHough[i, :]\n",
    "            effectiveHough[i] = effectiveHough[j]\n",
    "            effectiveHough[j] = tmpNum, tmpAngle, tmpP\n",
    "\n",
    "#sort effectiveHough"
   ]
  },
  {
   "cell_type": "code",
   "execution_count": 14,
   "metadata": {},
   "outputs": [
    {
     "name": "stdout",
     "output_type": "stream",
     "text": [
      "[ 11271.    110.   2711.]\n",
      "[ 10620.     71.   2838.]\n",
      "[ 10375.    682.   2424.]\n",
      "[ 9428.   683.  2328.]\n",
      "[ 7795.    73.  2902.]\n",
      "[ 7079.    83.  2330.]\n",
      "[ 5944.   106.  2659.]\n",
      "[ 5837.   688.  2099.]\n",
      "[ 5834.   702.  2238.]\n",
      "[ 4822.   705.  2183.]\n",
      "[ 4451.   717.  2358.]\n",
      "[  4.26000000e+03   2.00000000e+00   2.31800000e+03]\n",
      "[ 4186.   707.  2275.]\n",
      "[ 4150.   710.  2301.]\n",
      "[ 3455.   700.  2142.]\n",
      "[ 3240.     0.  2363.]\n",
      "[ 3191.     0.  2379.]\n",
      "[ 3191.    13.  2405.]\n",
      "[ 3123.   715.  2343.]\n",
      "[ 2824.   174.  2472.]\n",
      "[ 2686.   718.  2313.]\n",
      "[ 2626.     8.  2374.]\n",
      "[ 2518.    50.  2431.]\n",
      "[ 2478.   709.  2373.]\n",
      "[ 2465.   179.  2447.]\n",
      "[ 2419.    67.  2415.]\n",
      "[ 2391.   719.  2378.]\n",
      "[ 2345.     4.  2338.]\n",
      "[ 2215.    45.  2409.]\n",
      "[ 2191.    18.  2410.]\n",
      "[ 2186.     0.  2291.]\n",
      "[ 2116.   683.  2000.]\n",
      "[ 2017.    11.  2362.]\n",
      "[ 1971.    69.  2453.]\n",
      "[ 1967.    39.  2381.]\n",
      "[ 1963.    59.  2405.]\n",
      "[ 1910.    78.  2447.]\n",
      "[ 1906.   101.  2516.]\n",
      "[ 1889.    21.  2425.]\n",
      "[ 1865.    90.  2450.]\n",
      "[ 1834.   150.  2577.]\n",
      "[ 1824.   718.  2287.]\n",
      "[ 1796.   716.  2269.]\n",
      "[ 1750.   635.  2073.]\n",
      "[ 1741.    55.  2405.]\n",
      "[ 1729.   662.  2000.]\n",
      "[ 1692.   654.  2217.]\n",
      "[ 1685.   146.  2578.]\n",
      "[ 1669.    38.  2410.]\n",
      "[ 1618.    74.  2459.]\n",
      "[ 1573.    20.  2343.]\n",
      "[ 1562.    29.  2338.]\n",
      "[ 1548.   107.  2529.]\n",
      "[ 1498.    70.  2429.]\n",
      "[ 1484.    12.  2327.]\n",
      "[ 1481.   161.  2532.]\n",
      "[ 1477.   131.  2565.]\n",
      "[ 1470.   674.  2000.]\n",
      "[ 1461.    33.  2440.]\n",
      "[ 1450.   695.  2178.]\n",
      "[ 1435.   137.  2570.]\n",
      "[ 1431.    57.  2454.]\n",
      "[ 1428.    34.  2400.]\n",
      "[ 1422.   693.  2343.]\n",
      "[ 1382.    26.  2416.]\n",
      "[ 1381.   145.  2591.]\n",
      "[ 1374.   699.  2300.]\n",
      "[ 1371.   118.  2530.]\n",
      "[ 1371.    30.  2532.]\n",
      "[ 1364.   114.  2543.]\n",
      "[ 1361.    16.  2020.]\n",
      "[ 1358.   110.  2515.]\n",
      "[ 1344.    40.  2338.]\n",
      "[ 1342.   650.  2188.]\n",
      "[ 1335.   696.  2105.]\n",
      "[ 1319.   702.  2325.]\n",
      "[ 1311.   105.  2598.]\n",
      "[ 1307.    61.  2443.]\n",
      "[ 1291.   155.  2551.]\n",
      "[ 1288.   620.  2000.]\n",
      "[ 1274.   683.  2245.]\n",
      "[ 1265.   664.  2014.]\n",
      "[ 1256.    96.  2473.]\n",
      "[ 1243.    57.  2381.]\n",
      "[ 1207.    93.  2504.]\n",
      "[ 1205.    88.  2470.]\n",
      "[ 1200.   639.  2000.]\n",
      "[ 1180.   691.  2286.]\n",
      "[ 1171.   179.  2470.]\n",
      "[ 1162.   698.  2354.]\n",
      "[ 1155.   169.  2496.]\n",
      "[ 1154.    66.  2441.]\n",
      "[ 1153.    61.  2380.]\n",
      "[ 1136.    80.  2524.]\n",
      "[ 1135.    15.  2493.]\n",
      "[ 1122.     8.  2450.]\n",
      "[ 1121.   707.  2326.]\n",
      "[ 1117.    20.  2496.]\n",
      "[ 1108.   157.  2575.]\n",
      "[ 1106.   695.  2271.]\n"
     ]
    }
   ],
   "source": [
    "for i in range(100):\n",
    "    print effectiveHough[i]"
   ]
  },
  {
   "cell_type": "code",
   "execution_count": 15,
   "metadata": {
    "collapsed": true
   },
   "outputs": [],
   "source": [
    "resultImage = np.copy(magnitude)\n",
    "for i in range(row):\n",
    "    for j in range(col):\n",
    "        for k in range(10):\n",
    "            if int(i * math.cos(effectiveHough[k, 1] / 720.0 * 2 * math.pi) +\n",
    "                                   j * math.sin(effectiveHough[k, 1] / 720.0 * 2 * math.pi)) - effectiveHough[\n",
    "                k, 2] +2000 == 0:\n",
    "                resultImage[i, j] = 255"
   ]
  },
  {
   "cell_type": "code",
   "execution_count": 16,
   "metadata": {
    "collapsed": true
   },
   "outputs": [],
   "source": [
    "im = Image.fromarray(resultImage)\n",
    "im.show()"
   ]
  },
  {
   "cell_type": "markdown",
   "metadata": {},
   "source": [
    "### effectiveHough 数组中的内容：\n",
    "* 落在该直线上点的数量\n",
    "* thita:角度，取值0-720\n",
    "* p:直线到原点距离，取值-2000-2000\n",
    "\n",
    "#### 该数组已sort\n",
    "\n",
    "### 直线——线段\n",
    "* 对图中所有点搜索\n",
    "* effectiveLinePoint[100,max(effectiveHough[0]),2],如果点在前一百的hough直线上，加入到数组中\n",
    "* 对数组作sort\n",
    "* 求出数组中的线段"
   ]
  },
  {
   "cell_type": "code",
   "execution_count": 35,
   "metadata": {},
   "outputs": [
    {
     "name": "stdout",
     "output_type": "stream",
     "text": [
      "266.0\n",
      "329.0\n",
      "374.0\n",
      "379.0\n",
      "258.0\n",
      "237.0\n",
      "135.0\n",
      "50.0\n",
      "140.0\n",
      "67.0\n",
      "184.0\n",
      "137.0\n",
      "251.0\n",
      "194.0\n",
      "100.0\n",
      "188.0\n",
      "190.0\n",
      "142.0\n",
      "132.0\n",
      "135.0\n",
      "153.0\n",
      "135.0\n",
      "159.0\n",
      "124.0\n",
      "62.0\n",
      "99.0\n",
      "172.0\n",
      "152.0\n",
      "158.0\n",
      "126.0\n",
      "121.0\n",
      "140.0\n",
      "132.0\n",
      "173.0\n",
      "141.0\n",
      "122.0\n",
      "127.0\n",
      "123.0\n",
      "109.0\n",
      "83.0\n",
      "127.0\n",
      "107.0\n",
      "102.0\n",
      "112.0\n",
      "118.0\n",
      "80.0\n",
      "74.0\n",
      "114.0\n",
      "133.0\n",
      "146.0\n",
      "144.0\n",
      "89.0\n",
      "101.0\n",
      "114.0\n",
      "106.0\n",
      "143.0\n",
      "115.0\n",
      "138.0\n",
      "96.0\n",
      "173.0\n",
      "98.0\n",
      "129.0\n",
      "155.0\n",
      "105.0\n",
      "136.0\n",
      "123.0\n",
      "101.0\n",
      "128.0\n",
      "107.0\n",
      "82.0\n",
      "68.0\n",
      "133.0\n",
      "104.0\n",
      "65.0\n",
      "90.0\n",
      "86.0\n",
      "83.0\n",
      "187.0\n",
      "111.0\n",
      "179.0\n",
      "86.0\n",
      "49.0\n",
      "120.0\n",
      "87.0\n",
      "94.0\n",
      "110.0\n",
      "153.0\n",
      "117.0\n",
      "122.0\n",
      "107.0\n",
      "153.0\n",
      "91.0\n",
      "75.0\n",
      "117.0\n",
      "107.0\n",
      "94.0\n",
      "84.0\n",
      "129.0\n",
      "86.0\n",
      "108.0\n"
     ]
    }
   ],
   "source": [
    "maxEffectvieHough = int(effectiveHough[0,0])\n",
    "effectiveLinePoint = np.zeros((100,maxEffectvieHough,2))\n",
    "lineCount = np.zeros(100)\n",
    "for i in range(row):\n",
    "    for j in range(col):\n",
    "        for k in range(100):\n",
    "            onLine = int(i * math.cos(effectiveHough[k, 1] / 720.0 * 2 * math.pi) + \n",
    "                    j * math.sin(effectiveHough[k, 1] / 720.0 * 2 * math.pi)) - effectiveHough[k, 2] +2000 \n",
    "            if (onLine==0) and (magnitude[i,j]==255):\n",
    "                tmp = int(lineCount[k])\n",
    "                effectiveLinePoint[k,tmp,:]=i,j\n",
    "                lineCount[k]+=1\n",
    "for i in range (100):\n",
    "    print lineCount[i]"
   ]
  },
  {
   "cell_type": "code",
   "execution_count": null,
   "metadata": {
    "collapsed": true
   },
   "outputs": [],
   "source": []
  }
 ],
 "metadata": {
  "kernelspec": {
   "display_name": "Python 2",
   "language": "python",
   "name": "python2"
  },
  "language_info": {
   "codemirror_mode": {
    "name": "ipython",
    "version": 2
   },
   "file_extension": ".py",
   "mimetype": "text/x-python",
   "name": "python",
   "nbconvert_exporter": "python",
   "pygments_lexer": "ipython2",
   "version": "2.7.14"
  }
 },
 "nbformat": 4,
 "nbformat_minor": 2
}
